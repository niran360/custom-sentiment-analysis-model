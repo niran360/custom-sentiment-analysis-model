{
 "cells": [
  {
   "cell_type": "code",
   "execution_count": 1,
   "metadata": {},
   "outputs": [],
   "source": [
    "import pandas as pd\n",
    "import numpy as np\n",
    "import nltk\n",
    "from nltk import pos_tag, map_tag\n",
    "from nltk.corpus import sentiwordnet as swn\n",
    "from nltk.stem import WordNetLemmatizer\n",
    "from nltk.stem import PorterStemmer\n",
    "from textblob import TextBlob\n",
    "from afinn import Afinn"
   ]
  },
  {
   "cell_type": "code",
   "execution_count": 2,
   "metadata": {},
   "outputs": [],
   "source": [
    "df=pd.read_csv('health_news.csv')"
   ]
  },
  {
   "cell_type": "code",
   "execution_count": 3,
   "metadata": {},
   "outputs": [
    {
     "data": {
      "text/html": [
       "<div>\n",
       "<style scoped>\n",
       "    .dataframe tbody tr th:only-of-type {\n",
       "        vertical-align: middle;\n",
       "    }\n",
       "\n",
       "    .dataframe tbody tr th {\n",
       "        vertical-align: top;\n",
       "    }\n",
       "\n",
       "    .dataframe thead th {\n",
       "        text-align: right;\n",
       "    }\n",
       "</style>\n",
       "<table border=\"1\" class=\"dataframe\">\n",
       "  <thead>\n",
       "    <tr style=\"text-align: right;\">\n",
       "      <th></th>\n",
       "      <th>Unnamed: 0</th>\n",
       "      <th>numbers</th>\n",
       "      <th>time</th>\n",
       "      <th>tweets</th>\n",
       "    </tr>\n",
       "  </thead>\n",
       "  <tbody>\n",
       "    <tr>\n",
       "      <th>0</th>\n",
       "      <td>0</td>\n",
       "      <td>585978391360221184</td>\n",
       "      <td>Thu Apr 09 01:31:50 +0000 2015</td>\n",
       "      <td>Breast cancer risk test devised http://bbc.in/...</td>\n",
       "    </tr>\n",
       "    <tr>\n",
       "      <th>1</th>\n",
       "      <td>1</td>\n",
       "      <td>585947808772960257</td>\n",
       "      <td>Wed Apr 08 23:30:18 +0000 2015</td>\n",
       "      <td>GP workload harming care - BMA poll http://bbc...</td>\n",
       "    </tr>\n",
       "    <tr>\n",
       "      <th>2</th>\n",
       "      <td>2</td>\n",
       "      <td>585947807816650752</td>\n",
       "      <td>Wed Apr 08 23:30:18 +0000 2015</td>\n",
       "      <td>Short people's 'heart risk greater' http://bbc...</td>\n",
       "    </tr>\n",
       "    <tr>\n",
       "      <th>3</th>\n",
       "      <td>3</td>\n",
       "      <td>585866060991078401</td>\n",
       "      <td>Wed Apr 08 18:05:28 +0000 2015</td>\n",
       "      <td>New approach against HIV 'promising' http://bb...</td>\n",
       "    </tr>\n",
       "    <tr>\n",
       "      <th>4</th>\n",
       "      <td>4</td>\n",
       "      <td>585794106170839041</td>\n",
       "      <td>Wed Apr 08 13:19:33 +0000 2015</td>\n",
       "      <td>Coalition 'undermined NHS' - doctors http://bb...</td>\n",
       "    </tr>\n",
       "  </tbody>\n",
       "</table>\n",
       "</div>"
      ],
      "text/plain": [
       "   Unnamed: 0             numbers                            time  \\\n",
       "0           0  585978391360221184  Thu Apr 09 01:31:50 +0000 2015   \n",
       "1           1  585947808772960257  Wed Apr 08 23:30:18 +0000 2015   \n",
       "2           2  585947807816650752  Wed Apr 08 23:30:18 +0000 2015   \n",
       "3           3  585866060991078401  Wed Apr 08 18:05:28 +0000 2015   \n",
       "4           4  585794106170839041  Wed Apr 08 13:19:33 +0000 2015   \n",
       "\n",
       "                                              tweets  \n",
       "0  Breast cancer risk test devised http://bbc.in/...  \n",
       "1  GP workload harming care - BMA poll http://bbc...  \n",
       "2  Short people's 'heart risk greater' http://bbc...  \n",
       "3  New approach against HIV 'promising' http://bb...  \n",
       "4  Coalition 'undermined NHS' - doctors http://bb...  "
      ]
     },
     "execution_count": 3,
     "metadata": {},
     "output_type": "execute_result"
    }
   ],
   "source": [
    "df.head()"
   ]
  },
  {
   "cell_type": "code",
   "execution_count": 4,
   "metadata": {},
   "outputs": [],
   "source": [
    "df.drop(['numbers', 'time'], axis=1, inplace=True)"
   ]
  },
  {
   "cell_type": "code",
   "execution_count": 5,
   "metadata": {},
   "outputs": [
    {
     "data": {
      "text/plain": [
       "(55230, 2)"
      ]
     },
     "execution_count": 5,
     "metadata": {},
     "output_type": "execute_result"
    }
   ],
   "source": [
    "df.shape"
   ]
  },
  {
   "cell_type": "code",
   "execution_count": 6,
   "metadata": {},
   "outputs": [
    {
     "data": {
      "text/plain": [
       "False"
      ]
     },
     "execution_count": 6,
     "metadata": {},
     "output_type": "execute_result"
    }
   ],
   "source": [
    "df.isnull().values.any()"
   ]
  },
  {
   "cell_type": "code",
   "execution_count": 7,
   "metadata": {},
   "outputs": [],
   "source": [
    "# import re\n",
    "# import string\n",
    "from Scripts.preprocessor import TwitterPreprocessor"
   ]
  },
  {
   "cell_type": "code",
   "execution_count": 8,
   "metadata": {},
   "outputs": [],
   "source": [
    "df['clean_text'] = df.tweets.apply(lambda x: TwitterPreprocessor(x).ml_preprocess().text)"
   ]
  },
  {
   "cell_type": "code",
   "execution_count": 9,
   "metadata": {
    "scrolled": true
   },
   "outputs": [
    {
     "data": {
      "text/html": [
       "<div>\n",
       "<style scoped>\n",
       "    .dataframe tbody tr th:only-of-type {\n",
       "        vertical-align: middle;\n",
       "    }\n",
       "\n",
       "    .dataframe tbody tr th {\n",
       "        vertical-align: top;\n",
       "    }\n",
       "\n",
       "    .dataframe thead th {\n",
       "        text-align: right;\n",
       "    }\n",
       "</style>\n",
       "<table border=\"1\" class=\"dataframe\">\n",
       "  <thead>\n",
       "    <tr style=\"text-align: right;\">\n",
       "      <th></th>\n",
       "      <th>Unnamed: 0</th>\n",
       "      <th>tweets</th>\n",
       "      <th>clean_text</th>\n",
       "    </tr>\n",
       "  </thead>\n",
       "  <tbody>\n",
       "    <tr>\n",
       "      <th>0</th>\n",
       "      <td>0</td>\n",
       "      <td>Breast cancer risk test devised http://bbc.in/...</td>\n",
       "      <td>breast cancer risk test devised</td>\n",
       "    </tr>\n",
       "    <tr>\n",
       "      <th>1</th>\n",
       "      <td>1</td>\n",
       "      <td>GP workload harming care - BMA poll http://bbc...</td>\n",
       "      <td>gp workload harming care bma poll</td>\n",
       "    </tr>\n",
       "    <tr>\n",
       "      <th>2</th>\n",
       "      <td>2</td>\n",
       "      <td>Short people's 'heart risk greater' http://bbc...</td>\n",
       "      <td>short people heart risk greater</td>\n",
       "    </tr>\n",
       "    <tr>\n",
       "      <th>3</th>\n",
       "      <td>3</td>\n",
       "      <td>New approach against HIV 'promising' http://bb...</td>\n",
       "      <td>new approach hiv promising</td>\n",
       "    </tr>\n",
       "    <tr>\n",
       "      <th>4</th>\n",
       "      <td>4</td>\n",
       "      <td>Coalition 'undermined NHS' - doctors http://bb...</td>\n",
       "      <td>coalition undermined nhs doctors</td>\n",
       "    </tr>\n",
       "  </tbody>\n",
       "</table>\n",
       "</div>"
      ],
      "text/plain": [
       "   Unnamed: 0                                             tweets  \\\n",
       "0           0  Breast cancer risk test devised http://bbc.in/...   \n",
       "1           1  GP workload harming care - BMA poll http://bbc...   \n",
       "2           2  Short people's 'heart risk greater' http://bbc...   \n",
       "3           3  New approach against HIV 'promising' http://bb...   \n",
       "4           4  Coalition 'undermined NHS' - doctors http://bb...   \n",
       "\n",
       "                          clean_text  \n",
       "0    breast cancer risk test devised  \n",
       "1  gp workload harming care bma poll  \n",
       "2    short people heart risk greater  \n",
       "3         new approach hiv promising  \n",
       "4   coalition undermined nhs doctors  "
      ]
     },
     "execution_count": 9,
     "metadata": {},
     "output_type": "execute_result"
    }
   ],
   "source": [
    "df.head()"
   ]
  },
  {
   "cell_type": "code",
   "execution_count": 10,
   "metadata": {},
   "outputs": [],
   "source": [
    "import boto3"
   ]
  },
  {
   "cell_type": "code",
   "execution_count": 27,
   "metadata": {},
   "outputs": [
    {
     "data": {
      "text/plain": [
       "(5000, 3)"
      ]
     },
     "execution_count": 27,
     "metadata": {},
     "output_type": "execute_result"
    }
   ],
   "source": [
    "df1=  df[:5000]\n",
    "df1.shape"
   ]
  },
  {
   "cell_type": "code",
   "execution_count": 20,
   "metadata": {},
   "outputs": [],
   "source": [
    "def create_sentiment_aws(row):\n",
    "    \"\"\"Uses AWS Comprehend to Create Sentiments on a DataFrame\"\"\"\n",
    "\n",
    "    try:\n",
    "      comprehend = boto3.client(service_name='comprehend', region_name=\"us-east-2\")\n",
    "      payload = comprehend.detect_sentiment(Text=row, LanguageCode='en')  \n",
    "      sentiment = payload['Sentiment']\n",
    "    except Exception:\n",
    "      print(\"Size exceeded:  Fail\")\n",
    "      return None\n",
    "    return sentiment"
   ]
  },
  {
   "cell_type": "code",
   "execution_count": 28,
   "metadata": {},
   "outputs": [],
   "source": [
    "def apply_sentiment_aws(df, column=\"clean_text\"):\n",
    "    \"\"\"Uses Pandas Apply to Create Sentiment Analysis\"\"\"\n",
    "\n",
    "    df['Sentiment'] = df[column].apply(create_sentiment_aws)\n",
    "    return df"
   ]
  },
  {
   "cell_type": "code",
   "execution_count": 29,
   "metadata": {},
   "outputs": [
    {
     "name": "stderr",
     "output_type": "stream",
     "text": [
      "C:\\ProgramData\\Anaconda3\\lib\\site-packages\\ipykernel_launcher.py:4: SettingWithCopyWarning: \n",
      "A value is trying to be set on a copy of a slice from a DataFrame.\n",
      "Try using .loc[row_indexer,col_indexer] = value instead\n",
      "\n",
      "See the caveats in the documentation: https://pandas.pydata.org/pandas-docs/stable/user_guide/indexing.html#returning-a-view-versus-a-copy\n",
      "  after removing the cwd from sys.path.\n"
     ]
    }
   ],
   "source": [
    "df1_aws = apply_sentiment_aws(df1)"
   ]
  },
  {
   "cell_type": "code",
   "execution_count": 33,
   "metadata": {},
   "outputs": [
    {
     "data": {
      "text/html": [
       "<div>\n",
       "<style scoped>\n",
       "    .dataframe tbody tr th:only-of-type {\n",
       "        vertical-align: middle;\n",
       "    }\n",
       "\n",
       "    .dataframe tbody tr th {\n",
       "        vertical-align: top;\n",
       "    }\n",
       "\n",
       "    .dataframe thead th {\n",
       "        text-align: right;\n",
       "    }\n",
       "</style>\n",
       "<table border=\"1\" class=\"dataframe\">\n",
       "  <thead>\n",
       "    <tr style=\"text-align: right;\">\n",
       "      <th></th>\n",
       "      <th>Unnamed: 0</th>\n",
       "      <th>tweets</th>\n",
       "      <th>clean_text</th>\n",
       "      <th>Sentiment</th>\n",
       "    </tr>\n",
       "  </thead>\n",
       "  <tbody>\n",
       "    <tr>\n",
       "      <th>0</th>\n",
       "      <td>0</td>\n",
       "      <td>Breast cancer risk test devised http://bbc.in/...</td>\n",
       "      <td>breast cancer risk test devised</td>\n",
       "      <td>NEUTRAL</td>\n",
       "    </tr>\n",
       "    <tr>\n",
       "      <th>1</th>\n",
       "      <td>1</td>\n",
       "      <td>GP workload harming care - BMA poll http://bbc...</td>\n",
       "      <td>gp workload harming care bma poll</td>\n",
       "      <td>NEUTRAL</td>\n",
       "    </tr>\n",
       "    <tr>\n",
       "      <th>2</th>\n",
       "      <td>2</td>\n",
       "      <td>Short people's 'heart risk greater' http://bbc...</td>\n",
       "      <td>short people heart risk greater</td>\n",
       "      <td>MIXED</td>\n",
       "    </tr>\n",
       "    <tr>\n",
       "      <th>3</th>\n",
       "      <td>3</td>\n",
       "      <td>New approach against HIV 'promising' http://bb...</td>\n",
       "      <td>new approach hiv promising</td>\n",
       "      <td>POSITIVE</td>\n",
       "    </tr>\n",
       "    <tr>\n",
       "      <th>4</th>\n",
       "      <td>4</td>\n",
       "      <td>Coalition 'undermined NHS' - doctors http://bb...</td>\n",
       "      <td>coalition undermined nhs doctors</td>\n",
       "      <td>NEUTRAL</td>\n",
       "    </tr>\n",
       "  </tbody>\n",
       "</table>\n",
       "</div>"
      ],
      "text/plain": [
       "   Unnamed: 0                                             tweets  \\\n",
       "0           0  Breast cancer risk test devised http://bbc.in/...   \n",
       "1           1  GP workload harming care - BMA poll http://bbc...   \n",
       "2           2  Short people's 'heart risk greater' http://bbc...   \n",
       "3           3  New approach against HIV 'promising' http://bb...   \n",
       "4           4  Coalition 'undermined NHS' - doctors http://bb...   \n",
       "\n",
       "                          clean_text Sentiment  \n",
       "0    breast cancer risk test devised   NEUTRAL  \n",
       "1  gp workload harming care bma poll   NEUTRAL  \n",
       "2    short people heart risk greater     MIXED  \n",
       "3         new approach hiv promising  POSITIVE  \n",
       "4   coalition undermined nhs doctors   NEUTRAL  "
      ]
     },
     "execution_count": 33,
     "metadata": {},
     "output_type": "execute_result"
    }
   ],
   "source": [
    "df1_aws.head()"
   ]
  },
  {
   "cell_type": "code",
   "execution_count": 32,
   "metadata": {},
   "outputs": [],
   "source": [
    "df1_aws.to_csv('sentiment_for_healthtweets.csv', index='id')"
   ]
  },
  {
   "cell_type": "code",
   "execution_count": 34,
   "metadata": {},
   "outputs": [],
   "source": [
    "sent_df = pd.read_csv('sentiment_for_healthtweets.csv')"
   ]
  },
  {
   "cell_type": "code",
   "execution_count": 35,
   "metadata": {},
   "outputs": [
    {
     "data": {
      "text/html": [
       "<div>\n",
       "<style scoped>\n",
       "    .dataframe tbody tr th:only-of-type {\n",
       "        vertical-align: middle;\n",
       "    }\n",
       "\n",
       "    .dataframe tbody tr th {\n",
       "        vertical-align: top;\n",
       "    }\n",
       "\n",
       "    .dataframe thead th {\n",
       "        text-align: right;\n",
       "    }\n",
       "</style>\n",
       "<table border=\"1\" class=\"dataframe\">\n",
       "  <thead>\n",
       "    <tr style=\"text-align: right;\">\n",
       "      <th></th>\n",
       "      <th>Unnamed: 0</th>\n",
       "      <th>Unnamed: 0.1</th>\n",
       "      <th>tweets</th>\n",
       "      <th>clean_text</th>\n",
       "      <th>Sentiment</th>\n",
       "    </tr>\n",
       "  </thead>\n",
       "  <tbody>\n",
       "    <tr>\n",
       "      <th>0</th>\n",
       "      <td>0</td>\n",
       "      <td>0</td>\n",
       "      <td>Breast cancer risk test devised http://bbc.in/...</td>\n",
       "      <td>breast cancer risk test devised</td>\n",
       "      <td>NEUTRAL</td>\n",
       "    </tr>\n",
       "    <tr>\n",
       "      <th>1</th>\n",
       "      <td>1</td>\n",
       "      <td>1</td>\n",
       "      <td>GP workload harming care - BMA poll http://bbc...</td>\n",
       "      <td>gp workload harming care bma poll</td>\n",
       "      <td>NEUTRAL</td>\n",
       "    </tr>\n",
       "    <tr>\n",
       "      <th>2</th>\n",
       "      <td>2</td>\n",
       "      <td>2</td>\n",
       "      <td>Short people's 'heart risk greater' http://bbc...</td>\n",
       "      <td>short people heart risk greater</td>\n",
       "      <td>MIXED</td>\n",
       "    </tr>\n",
       "    <tr>\n",
       "      <th>3</th>\n",
       "      <td>3</td>\n",
       "      <td>3</td>\n",
       "      <td>New approach against HIV 'promising' http://bb...</td>\n",
       "      <td>new approach hiv promising</td>\n",
       "      <td>POSITIVE</td>\n",
       "    </tr>\n",
       "    <tr>\n",
       "      <th>4</th>\n",
       "      <td>4</td>\n",
       "      <td>4</td>\n",
       "      <td>Coalition 'undermined NHS' - doctors http://bb...</td>\n",
       "      <td>coalition undermined nhs doctors</td>\n",
       "      <td>NEUTRAL</td>\n",
       "    </tr>\n",
       "  </tbody>\n",
       "</table>\n",
       "</div>"
      ],
      "text/plain": [
       "   Unnamed: 0  Unnamed: 0.1  \\\n",
       "0           0             0   \n",
       "1           1             1   \n",
       "2           2             2   \n",
       "3           3             3   \n",
       "4           4             4   \n",
       "\n",
       "                                              tweets  \\\n",
       "0  Breast cancer risk test devised http://bbc.in/...   \n",
       "1  GP workload harming care - BMA poll http://bbc...   \n",
       "2  Short people's 'heart risk greater' http://bbc...   \n",
       "3  New approach against HIV 'promising' http://bb...   \n",
       "4  Coalition 'undermined NHS' - doctors http://bb...   \n",
       "\n",
       "                          clean_text Sentiment  \n",
       "0    breast cancer risk test devised   NEUTRAL  \n",
       "1  gp workload harming care bma poll   NEUTRAL  \n",
       "2    short people heart risk greater     MIXED  \n",
       "3         new approach hiv promising  POSITIVE  \n",
       "4   coalition undermined nhs doctors   NEUTRAL  "
      ]
     },
     "execution_count": 35,
     "metadata": {},
     "output_type": "execute_result"
    }
   ],
   "source": [
    "sent_df.head()"
   ]
  },
  {
   "cell_type": "code",
   "execution_count": 37,
   "metadata": {},
   "outputs": [
    {
     "data": {
      "text/html": [
       "<div>\n",
       "<style scoped>\n",
       "    .dataframe tbody tr th:only-of-type {\n",
       "        vertical-align: middle;\n",
       "    }\n",
       "\n",
       "    .dataframe tbody tr th {\n",
       "        vertical-align: top;\n",
       "    }\n",
       "\n",
       "    .dataframe thead th {\n",
       "        text-align: right;\n",
       "    }\n",
       "</style>\n",
       "<table border=\"1\" class=\"dataframe\">\n",
       "  <thead>\n",
       "    <tr style=\"text-align: right;\">\n",
       "      <th></th>\n",
       "      <th>Unnamed: 0</th>\n",
       "      <th>Unnamed: 0.1</th>\n",
       "      <th>tweets</th>\n",
       "      <th>clean_text</th>\n",
       "      <th>Sentiment</th>\n",
       "    </tr>\n",
       "    <tr>\n",
       "      <th>id</th>\n",
       "      <th></th>\n",
       "      <th></th>\n",
       "      <th></th>\n",
       "      <th></th>\n",
       "      <th></th>\n",
       "    </tr>\n",
       "  </thead>\n",
       "  <tbody>\n",
       "    <tr>\n",
       "      <th>0</th>\n",
       "      <td>0</td>\n",
       "      <td>0</td>\n",
       "      <td>Breast cancer risk test devised http://bbc.in/...</td>\n",
       "      <td>breast cancer risk test devised</td>\n",
       "      <td>NEUTRAL</td>\n",
       "    </tr>\n",
       "    <tr>\n",
       "      <th>1</th>\n",
       "      <td>1</td>\n",
       "      <td>1</td>\n",
       "      <td>GP workload harming care - BMA poll http://bbc...</td>\n",
       "      <td>gp workload harming care bma poll</td>\n",
       "      <td>NEUTRAL</td>\n",
       "    </tr>\n",
       "    <tr>\n",
       "      <th>2</th>\n",
       "      <td>2</td>\n",
       "      <td>2</td>\n",
       "      <td>Short people's 'heart risk greater' http://bbc...</td>\n",
       "      <td>short people heart risk greater</td>\n",
       "      <td>MIXED</td>\n",
       "    </tr>\n",
       "    <tr>\n",
       "      <th>3</th>\n",
       "      <td>3</td>\n",
       "      <td>3</td>\n",
       "      <td>New approach against HIV 'promising' http://bb...</td>\n",
       "      <td>new approach hiv promising</td>\n",
       "      <td>POSITIVE</td>\n",
       "    </tr>\n",
       "    <tr>\n",
       "      <th>4</th>\n",
       "      <td>4</td>\n",
       "      <td>4</td>\n",
       "      <td>Coalition 'undermined NHS' - doctors http://bb...</td>\n",
       "      <td>coalition undermined nhs doctors</td>\n",
       "      <td>NEUTRAL</td>\n",
       "    </tr>\n",
       "  </tbody>\n",
       "</table>\n",
       "</div>"
      ],
      "text/plain": [
       "    Unnamed: 0  Unnamed: 0.1  \\\n",
       "id                             \n",
       "0            0             0   \n",
       "1            1             1   \n",
       "2            2             2   \n",
       "3            3             3   \n",
       "4            4             4   \n",
       "\n",
       "                                               tweets  \\\n",
       "id                                                      \n",
       "0   Breast cancer risk test devised http://bbc.in/...   \n",
       "1   GP workload harming care - BMA poll http://bbc...   \n",
       "2   Short people's 'heart risk greater' http://bbc...   \n",
       "3   New approach against HIV 'promising' http://bb...   \n",
       "4   Coalition 'undermined NHS' - doctors http://bb...   \n",
       "\n",
       "                           clean_text Sentiment  \n",
       "id                                               \n",
       "0     breast cancer risk test devised   NEUTRAL  \n",
       "1   gp workload harming care bma poll   NEUTRAL  \n",
       "2     short people heart risk greater     MIXED  \n",
       "3          new approach hiv promising  POSITIVE  \n",
       "4    coalition undermined nhs doctors   NEUTRAL  "
      ]
     },
     "execution_count": 37,
     "metadata": {},
     "output_type": "execute_result"
    }
   ],
   "source": [
    "sent_df.index = sent_df.index.rename('id')\n",
    "sent_df.head()"
   ]
  },
  {
   "cell_type": "code",
   "execution_count": 38,
   "metadata": {},
   "outputs": [
    {
     "data": {
      "text/html": [
       "<div>\n",
       "<style scoped>\n",
       "    .dataframe tbody tr th:only-of-type {\n",
       "        vertical-align: middle;\n",
       "    }\n",
       "\n",
       "    .dataframe tbody tr th {\n",
       "        vertical-align: top;\n",
       "    }\n",
       "\n",
       "    .dataframe thead th {\n",
       "        text-align: right;\n",
       "    }\n",
       "</style>\n",
       "<table border=\"1\" class=\"dataframe\">\n",
       "  <thead>\n",
       "    <tr style=\"text-align: right;\">\n",
       "      <th></th>\n",
       "      <th>clean_text</th>\n",
       "      <th>Sentiment</th>\n",
       "    </tr>\n",
       "    <tr>\n",
       "      <th>id</th>\n",
       "      <th></th>\n",
       "      <th></th>\n",
       "    </tr>\n",
       "  </thead>\n",
       "  <tbody>\n",
       "    <tr>\n",
       "      <th>0</th>\n",
       "      <td>breast cancer risk test devised</td>\n",
       "      <td>NEUTRAL</td>\n",
       "    </tr>\n",
       "    <tr>\n",
       "      <th>1</th>\n",
       "      <td>gp workload harming care bma poll</td>\n",
       "      <td>NEUTRAL</td>\n",
       "    </tr>\n",
       "    <tr>\n",
       "      <th>2</th>\n",
       "      <td>short people heart risk greater</td>\n",
       "      <td>MIXED</td>\n",
       "    </tr>\n",
       "    <tr>\n",
       "      <th>3</th>\n",
       "      <td>new approach hiv promising</td>\n",
       "      <td>POSITIVE</td>\n",
       "    </tr>\n",
       "    <tr>\n",
       "      <th>4</th>\n",
       "      <td>coalition undermined nhs doctors</td>\n",
       "      <td>NEUTRAL</td>\n",
       "    </tr>\n",
       "  </tbody>\n",
       "</table>\n",
       "</div>"
      ],
      "text/plain": [
       "                           clean_text Sentiment\n",
       "id                                             \n",
       "0     breast cancer risk test devised   NEUTRAL\n",
       "1   gp workload harming care bma poll   NEUTRAL\n",
       "2     short people heart risk greater     MIXED\n",
       "3          new approach hiv promising  POSITIVE\n",
       "4    coalition undermined nhs doctors   NEUTRAL"
      ]
     },
     "execution_count": 38,
     "metadata": {},
     "output_type": "execute_result"
    }
   ],
   "source": [
    "sent_df =sent_df[[\"clean_text\", \"Sentiment\"]]\n",
    "sent_df.head()"
   ]
  },
  {
   "cell_type": "code",
   "execution_count": null,
   "metadata": {},
   "outputs": [],
   "source": []
  }
 ],
 "metadata": {
  "kernelspec": {
   "display_name": "Python 3",
   "language": "python",
   "name": "python3"
  },
  "language_info": {
   "codemirror_mode": {
    "name": "ipython",
    "version": 3
   },
   "file_extension": ".py",
   "mimetype": "text/x-python",
   "name": "python",
   "nbconvert_exporter": "python",
   "pygments_lexer": "ipython3",
   "version": "3.7.6"
  }
 },
 "nbformat": 4,
 "nbformat_minor": 4
}
