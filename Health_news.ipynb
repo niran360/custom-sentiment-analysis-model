{
 "cells": [
  {
   "cell_type": "code",
   "execution_count": 1,
   "metadata": {},
   "outputs": [],
   "source": [
    "import pandas as pd\n",
    "import numpy as np"
   ]
  },
  {
   "cell_type": "code",
   "execution_count": 2,
   "metadata": {},
   "outputs": [],
   "source": [
    "headers = ['numbers', 'time', 'tweets']"
   ]
  },
  {
   "cell_type": "code",
   "execution_count": 3,
   "metadata": {},
   "outputs": [
    {
     "data": {
      "text/html": [
       "<div>\n",
       "<style scoped>\n",
       "    .dataframe tbody tr th:only-of-type {\n",
       "        vertical-align: middle;\n",
       "    }\n",
       "\n",
       "    .dataframe tbody tr th {\n",
       "        vertical-align: top;\n",
       "    }\n",
       "\n",
       "    .dataframe thead th {\n",
       "        text-align: right;\n",
       "    }\n",
       "</style>\n",
       "<table border=\"1\" class=\"dataframe\">\n",
       "  <thead>\n",
       "    <tr style=\"text-align: right;\">\n",
       "      <th></th>\n",
       "      <th>numbers</th>\n",
       "      <th>time</th>\n",
       "      <th>tweets</th>\n",
       "    </tr>\n",
       "  </thead>\n",
       "  <tbody>\n",
       "    <tr>\n",
       "      <th>0</th>\n",
       "      <td>585978391360221184</td>\n",
       "      <td>Thu Apr 09 01:31:50 +0000 2015</td>\n",
       "      <td>Breast cancer risk test devised http://bbc.in/...</td>\n",
       "    </tr>\n",
       "    <tr>\n",
       "      <th>1</th>\n",
       "      <td>585947808772960257</td>\n",
       "      <td>Wed Apr 08 23:30:18 +0000 2015</td>\n",
       "      <td>GP workload harming care - BMA poll http://bbc...</td>\n",
       "    </tr>\n",
       "    <tr>\n",
       "      <th>2</th>\n",
       "      <td>585947807816650752</td>\n",
       "      <td>Wed Apr 08 23:30:18 +0000 2015</td>\n",
       "      <td>Short people's 'heart risk greater' http://bbc...</td>\n",
       "    </tr>\n",
       "    <tr>\n",
       "      <th>3</th>\n",
       "      <td>585866060991078401</td>\n",
       "      <td>Wed Apr 08 18:05:28 +0000 2015</td>\n",
       "      <td>New approach against HIV 'promising' http://bb...</td>\n",
       "    </tr>\n",
       "    <tr>\n",
       "      <th>4</th>\n",
       "      <td>585794106170839041</td>\n",
       "      <td>Wed Apr 08 13:19:33 +0000 2015</td>\n",
       "      <td>Coalition 'undermined NHS' - doctors http://bb...</td>\n",
       "    </tr>\n",
       "    <tr>\n",
       "      <th>...</th>\n",
       "      <td>...</td>\n",
       "      <td>...</td>\n",
       "      <td>...</td>\n",
       "    </tr>\n",
       "    <tr>\n",
       "      <th>3195</th>\n",
       "      <td>415494259022655489</td>\n",
       "      <td>Tue Dec 24 14:48:45 +0000 2013</td>\n",
       "      <td>RT @stefaniei: Addiction and the brain: scient...</td>\n",
       "    </tr>\n",
       "    <tr>\n",
       "      <th>3196</th>\n",
       "      <td>415493351396233216</td>\n",
       "      <td>Tue Dec 24 14:45:09 +0000 2013</td>\n",
       "      <td>RT @timothywmartin: Ho-ho-hold up! A surprise ...</td>\n",
       "    </tr>\n",
       "    <tr>\n",
       "      <th>3197</th>\n",
       "      <td>415493203983204352</td>\n",
       "      <td>Tue Dec 24 14:44:33 +0000 2013</td>\n",
       "      <td>RT @stefaniei: Health-Insurance Deadline Exten...</td>\n",
       "    </tr>\n",
       "    <tr>\n",
       "      <th>3198</th>\n",
       "      <td>415386956420231169</td>\n",
       "      <td>Tue Dec 24 07:42:22 +0000 2013</td>\n",
       "      <td>Boston Scientific Eyes China Expansion http://...</td>\n",
       "    </tr>\n",
       "    <tr>\n",
       "      <th>3199</th>\n",
       "      <td>415361763362603008</td>\n",
       "      <td>Tue Dec 24 06:02:16 +0000 2013</td>\n",
       "      <td>For Desperate Family in India, a Ray of Hope F...</td>\n",
       "    </tr>\n",
       "  </tbody>\n",
       "</table>\n",
       "<p>55230 rows × 3 columns</p>\n",
       "</div>"
      ],
      "text/plain": [
       "                 numbers                            time  \\\n",
       "0     585978391360221184  Thu Apr 09 01:31:50 +0000 2015   \n",
       "1     585947808772960257  Wed Apr 08 23:30:18 +0000 2015   \n",
       "2     585947807816650752  Wed Apr 08 23:30:18 +0000 2015   \n",
       "3     585866060991078401  Wed Apr 08 18:05:28 +0000 2015   \n",
       "4     585794106170839041  Wed Apr 08 13:19:33 +0000 2015   \n",
       "...                  ...                             ...   \n",
       "3195  415494259022655489  Tue Dec 24 14:48:45 +0000 2013   \n",
       "3196  415493351396233216  Tue Dec 24 14:45:09 +0000 2013   \n",
       "3197  415493203983204352  Tue Dec 24 14:44:33 +0000 2013   \n",
       "3198  415386956420231169  Tue Dec 24 07:42:22 +0000 2013   \n",
       "3199  415361763362603008  Tue Dec 24 06:02:16 +0000 2013   \n",
       "\n",
       "                                                 tweets  \n",
       "0     Breast cancer risk test devised http://bbc.in/...  \n",
       "1     GP workload harming care - BMA poll http://bbc...  \n",
       "2     Short people's 'heart risk greater' http://bbc...  \n",
       "3     New approach against HIV 'promising' http://bb...  \n",
       "4     Coalition 'undermined NHS' - doctors http://bb...  \n",
       "...                                                 ...  \n",
       "3195  RT @stefaniei: Addiction and the brain: scient...  \n",
       "3196  RT @timothywmartin: Ho-ho-hold up! A surprise ...  \n",
       "3197  RT @stefaniei: Health-Insurance Deadline Exten...  \n",
       "3198  Boston Scientific Eyes China Expansion http://...  \n",
       "3199  For Desperate Family in India, a Ray of Hope F...  \n",
       "\n",
       "[55230 rows x 3 columns]"
      ]
     },
     "execution_count": 3,
     "metadata": {},
     "output_type": "execute_result"
    }
   ],
   "source": [
    "import os\n",
    "directory = r'C:\\Users\\SEGUN\\Documents\\New folder\\Health-Tweets'\n",
    "txtFiles = []\n",
    "\n",
    "for filename in os.listdir(directory):\n",
    "    if filename.endswith(\".txt\"):\n",
    "      txtFiles.append(filename)\n",
    "      continue\n",
    "    else:\n",
    "        continue\n",
    "\n",
    "df = pd.DataFrame() \n",
    "\n",
    "for txtFile in txtFiles:\n",
    "    data = pd.read_csv(txtFile, delimiter = '|', names = headers, encoding='latin1')\n",
    "    df = pd.concat((df,data))\n",
    "    \n",
    "df"
   ]
  },
  {
   "cell_type": "code",
   "execution_count": 5,
   "metadata": {},
   "outputs": [],
   "source": [
    "df.to_csv('healthcare_tweet.csv')"
   ]
  },
  {
   "cell_type": "code",
   "execution_count": 6,
   "metadata": {},
   "outputs": [
    {
     "data": {
      "text/plain": [
       "(55230, 3)"
      ]
     },
     "execution_count": 6,
     "metadata": {},
     "output_type": "execute_result"
    }
   ],
   "source": [
    "df.shape"
   ]
  },
  {
   "cell_type": "code",
   "execution_count": 7,
   "metadata": {},
   "outputs": [
    {
     "data": {
      "text/plain": [
       "False"
      ]
     },
     "execution_count": 7,
     "metadata": {},
     "output_type": "execute_result"
    }
   ],
   "source": [
    "df.isnull().values.any()"
   ]
  },
  {
   "cell_type": "code",
   "execution_count": 8,
   "metadata": {},
   "outputs": [],
   "source": [
    "import re\n",
    "import string\n",
    "\n",
    "from Scripts.preprocessor import TwitterPreprocessor\n",
    "\n",
    "import nltk\n",
    "from nltk import pos_tag, map_tag\n",
    "from nltk.corpus import sentiwordnet as swn\n",
    "from nltk.stem import WordNetLemmatizer\n",
    "from nltk.stem import PorterStemmer\n",
    "from textblob import TextBlob\n",
    "from afinn import Afinn"
   ]
  },
  {
   "cell_type": "code",
   "execution_count": 10,
   "metadata": {},
   "outputs": [],
   "source": [
    "df['clean_text'] = df.tweets.apply(lambda x: TwitterPreprocessor(x).ml_preprocess().text)"
   ]
  },
  {
   "cell_type": "code",
   "execution_count": 11,
   "metadata": {},
   "outputs": [
    {
     "data": {
      "text/html": [
       "<div>\n",
       "<style scoped>\n",
       "    .dataframe tbody tr th:only-of-type {\n",
       "        vertical-align: middle;\n",
       "    }\n",
       "\n",
       "    .dataframe tbody tr th {\n",
       "        vertical-align: top;\n",
       "    }\n",
       "\n",
       "    .dataframe thead th {\n",
       "        text-align: right;\n",
       "    }\n",
       "</style>\n",
       "<table border=\"1\" class=\"dataframe\">\n",
       "  <thead>\n",
       "    <tr style=\"text-align: right;\">\n",
       "      <th></th>\n",
       "      <th>numbers</th>\n",
       "      <th>time</th>\n",
       "      <th>tweets</th>\n",
       "      <th>clean_text</th>\n",
       "    </tr>\n",
       "  </thead>\n",
       "  <tbody>\n",
       "    <tr>\n",
       "      <th>0</th>\n",
       "      <td>585978391360221184</td>\n",
       "      <td>Thu Apr 09 01:31:50 +0000 2015</td>\n",
       "      <td>Breast cancer risk test devised http://bbc.in/...</td>\n",
       "      <td>breast cancer risk test devised</td>\n",
       "    </tr>\n",
       "    <tr>\n",
       "      <th>1</th>\n",
       "      <td>585947808772960257</td>\n",
       "      <td>Wed Apr 08 23:30:18 +0000 2015</td>\n",
       "      <td>GP workload harming care - BMA poll http://bbc...</td>\n",
       "      <td>gp workload harming care bma poll</td>\n",
       "    </tr>\n",
       "    <tr>\n",
       "      <th>2</th>\n",
       "      <td>585947807816650752</td>\n",
       "      <td>Wed Apr 08 23:30:18 +0000 2015</td>\n",
       "      <td>Short people's 'heart risk greater' http://bbc...</td>\n",
       "      <td>short people heart risk greater</td>\n",
       "    </tr>\n",
       "    <tr>\n",
       "      <th>3</th>\n",
       "      <td>585866060991078401</td>\n",
       "      <td>Wed Apr 08 18:05:28 +0000 2015</td>\n",
       "      <td>New approach against HIV 'promising' http://bb...</td>\n",
       "      <td>new approach hiv promising</td>\n",
       "    </tr>\n",
       "    <tr>\n",
       "      <th>4</th>\n",
       "      <td>585794106170839041</td>\n",
       "      <td>Wed Apr 08 13:19:33 +0000 2015</td>\n",
       "      <td>Coalition 'undermined NHS' - doctors http://bb...</td>\n",
       "      <td>coalition undermined nhs doctors</td>\n",
       "    </tr>\n",
       "  </tbody>\n",
       "</table>\n",
       "</div>"
      ],
      "text/plain": [
       "              numbers                            time  \\\n",
       "0  585978391360221184  Thu Apr 09 01:31:50 +0000 2015   \n",
       "1  585947808772960257  Wed Apr 08 23:30:18 +0000 2015   \n",
       "2  585947807816650752  Wed Apr 08 23:30:18 +0000 2015   \n",
       "3  585866060991078401  Wed Apr 08 18:05:28 +0000 2015   \n",
       "4  585794106170839041  Wed Apr 08 13:19:33 +0000 2015   \n",
       "\n",
       "                                              tweets  \\\n",
       "0  Breast cancer risk test devised http://bbc.in/...   \n",
       "1  GP workload harming care - BMA poll http://bbc...   \n",
       "2  Short people's 'heart risk greater' http://bbc...   \n",
       "3  New approach against HIV 'promising' http://bb...   \n",
       "4  Coalition 'undermined NHS' - doctors http://bb...   \n",
       "\n",
       "                          clean_text  \n",
       "0    breast cancer risk test devised  \n",
       "1  gp workload harming care bma poll  \n",
       "2    short people heart risk greater  \n",
       "3         new approach hiv promising  \n",
       "4   coalition undermined nhs doctors  "
      ]
     },
     "execution_count": 11,
     "metadata": {},
     "output_type": "execute_result"
    }
   ],
   "source": [
    "df.head()"
   ]
  },
  {
   "cell_type": "code",
   "execution_count": 12,
   "metadata": {},
   "outputs": [],
   "source": [
    "df.drop(['numbers', 'time'], axis=1, inplace=True)"
   ]
  },
  {
   "cell_type": "code",
   "execution_count": 13,
   "metadata": {},
   "outputs": [
    {
     "data": {
      "text/html": [
       "<div>\n",
       "<style scoped>\n",
       "    .dataframe tbody tr th:only-of-type {\n",
       "        vertical-align: middle;\n",
       "    }\n",
       "\n",
       "    .dataframe tbody tr th {\n",
       "        vertical-align: top;\n",
       "    }\n",
       "\n",
       "    .dataframe thead th {\n",
       "        text-align: right;\n",
       "    }\n",
       "</style>\n",
       "<table border=\"1\" class=\"dataframe\">\n",
       "  <thead>\n",
       "    <tr style=\"text-align: right;\">\n",
       "      <th></th>\n",
       "      <th>tweets</th>\n",
       "      <th>clean_text</th>\n",
       "    </tr>\n",
       "  </thead>\n",
       "  <tbody>\n",
       "    <tr>\n",
       "      <th>0</th>\n",
       "      <td>Breast cancer risk test devised http://bbc.in/...</td>\n",
       "      <td>breast cancer risk test devised</td>\n",
       "    </tr>\n",
       "    <tr>\n",
       "      <th>1</th>\n",
       "      <td>GP workload harming care - BMA poll http://bbc...</td>\n",
       "      <td>gp workload harming care bma poll</td>\n",
       "    </tr>\n",
       "    <tr>\n",
       "      <th>2</th>\n",
       "      <td>Short people's 'heart risk greater' http://bbc...</td>\n",
       "      <td>short people heart risk greater</td>\n",
       "    </tr>\n",
       "    <tr>\n",
       "      <th>3</th>\n",
       "      <td>New approach against HIV 'promising' http://bb...</td>\n",
       "      <td>new approach hiv promising</td>\n",
       "    </tr>\n",
       "    <tr>\n",
       "      <th>4</th>\n",
       "      <td>Coalition 'undermined NHS' - doctors http://bb...</td>\n",
       "      <td>coalition undermined nhs doctors</td>\n",
       "    </tr>\n",
       "  </tbody>\n",
       "</table>\n",
       "</div>"
      ],
      "text/plain": [
       "                                              tweets  \\\n",
       "0  Breast cancer risk test devised http://bbc.in/...   \n",
       "1  GP workload harming care - BMA poll http://bbc...   \n",
       "2  Short people's 'heart risk greater' http://bbc...   \n",
       "3  New approach against HIV 'promising' http://bb...   \n",
       "4  Coalition 'undermined NHS' - doctors http://bb...   \n",
       "\n",
       "                          clean_text  \n",
       "0    breast cancer risk test devised  \n",
       "1  gp workload harming care bma poll  \n",
       "2    short people heart risk greater  \n",
       "3         new approach hiv promising  \n",
       "4   coalition undermined nhs doctors  "
      ]
     },
     "execution_count": 13,
     "metadata": {},
     "output_type": "execute_result"
    }
   ],
   "source": [
    "df.head()"
   ]
  },
  {
   "cell_type": "code",
   "execution_count": null,
   "metadata": {},
   "outputs": [],
   "source": [
    " "
   ]
  }
 ],
 "metadata": {
  "kernelspec": {
   "display_name": "Python 3",
   "language": "python",
   "name": "python3"
  },
  "language_info": {
   "codemirror_mode": {
    "name": "ipython",
    "version": 3
   },
   "file_extension": ".py",
   "mimetype": "text/x-python",
   "name": "python",
   "nbconvert_exporter": "python",
   "pygments_lexer": "ipython3",
   "version": "3.7.6"
  }
 },
 "nbformat": 4,
 "nbformat_minor": 4
}
